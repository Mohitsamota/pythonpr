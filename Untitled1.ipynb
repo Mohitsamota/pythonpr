{
 "cells": [
  {
   "cell_type": "code",
   "execution_count": 1,
   "id": "f45b83f7",
   "metadata": {},
   "outputs": [
    {
     "name": "stdout",
     "output_type": "stream",
     "text": [
      "Enter a password of 4 numbers : 45\n",
      "Trying dictionary attack to crack password....\n",
      "You entered [  1  ]\n",
      "You entered [  2  ]\n",
      "You entered [  3  ]\n",
      "You entered [  4  ]\n",
      "You entered [  5  ]\n",
      "You entered [  6  ]\n",
      "You entered [  7  ]\n",
      "You entered [  8  ]\n",
      "You entered [  9  ]\n",
      "You entered [  10  ]\n",
      "You entered [  11  ]\n",
      "You entered [  12  ]\n",
      "You entered [  13  ]\n",
      "You entered [  14  ]\n",
      "You entered [  15  ]\n",
      "You entered [  16  ]\n",
      "You entered [  17  ]\n",
      "You entered [  18  ]\n",
      "You entered [  19  ]\n",
      "You entered [  20  ]\n",
      "You entered [  21  ]\n",
      "You entered [  22  ]\n",
      "You entered [  23  ]\n",
      "You entered [  24  ]\n",
      "You entered [  25  ]\n",
      "You entered [  26  ]\n",
      "You entered [  27  ]\n",
      "You entered [  28  ]\n",
      "You entered [  29  ]\n",
      "You entered [  30  ]\n",
      "You entered [  31  ]\n",
      "You entered [  32  ]\n",
      "You entered [  33  ]\n",
      "You entered [  34  ]\n",
      "You entered [  35  ]\n",
      "You entered [  36  ]\n",
      "You entered [  37  ]\n",
      "You entered [  38  ]\n",
      "You entered [  39  ]\n",
      "You entered [  40  ]\n",
      "You entered [  41  ]\n",
      "You entered [  42  ]\n",
      "You entered [  43  ]\n",
      "You entered [  44  ]\n",
      "Detect password :  45\n"
     ]
    }
   ],
   "source": [
    "pwd = input(\"Enter a password of 4 numbers : \")\n",
    "\n",
    "try:\n",
    "    pwd = int(pwd)\n",
    "    print(\"Trying dictionary attack to crack password....\")\n",
    "    detect = 0\n",
    "    while detect != pwd and pwd < 10000:\n",
    "        detect += 1\n",
    "        if detect == pwd:\n",
    "            print(\"Detect password : \", detect)\n",
    "        else:\n",
    "            print(\"You entered [ \", detect, \" ]\")\n",
    "except:\n",
    "    print(\"Enter a valid password!!!\")"
   ]
  },
  {
   "cell_type": "code",
   "execution_count": null,
   "id": "62279555",
   "metadata": {},
   "outputs": [],
   "source": []
  },
  {
   "cell_type": "code",
   "execution_count": null,
   "id": "42ff1970",
   "metadata": {},
   "outputs": [],
   "source": []
  }
 ],
 "metadata": {
  "kernelspec": {
   "display_name": "Python 3",
   "language": "python",
   "name": "python3"
  },
  "language_info": {
   "codemirror_mode": {
    "name": "ipython",
    "version": 3
   },
   "file_extension": ".py",
   "mimetype": "text/x-python",
   "name": "python",
   "nbconvert_exporter": "python",
   "pygments_lexer": "ipython3",
   "version": "3.8.8"
  }
 },
 "nbformat": 4,
 "nbformat_minor": 5
}
